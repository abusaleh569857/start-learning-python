{
  "nbformat": 4,
  "nbformat_minor": 0,
  "metadata": {
    "colab": {
      "provenance": [],
      "authorship_tag": "ABX9TyNNb3RJwCxnDBXDA5p4/Iux",
      "include_colab_link": true
    },
    "kernelspec": {
      "name": "python3",
      "display_name": "Python 3"
    },
    "language_info": {
      "name": "python"
    }
  },
  "cells": [
    {
      "cell_type": "markdown",
      "metadata": {
        "id": "view-in-github",
        "colab_type": "text"
      },
      "source": [
        "<a href=\"https://colab.research.google.com/github/abusaleh569857/start-learning-python/blob/main/String.ipynb\" target=\"_parent\"><img src=\"https://colab.research.google.com/assets/colab-badge.svg\" alt=\"Open In Colab\"/></a>"
      ]
    },
    {
      "cell_type": "code",
      "execution_count": 14,
      "metadata": {
        "colab": {
          "base_uri": "https://localhost:8080/"
        },
        "id": "1ZzmEFVkutwi",
        "outputId": "6d69a9da-b764-4a8e-ce1c-db1fb603ba92"
      },
      "outputs": [
        {
          "output_type": "stream",
          "name": "stdout",
          "text": [
            "ABUSALEH ALAM KHAN\n",
            "Abusaleh Alam Khan\n",
            "ABUSALEH ALAM KHAN\n",
            "abusaleh alam khan\n",
            "ABUSALEH ALAM KHAN\n",
            "3\n",
            "9\n",
            "Maruf ALAM KHAN\n",
            "True\n"
          ]
        }
      ],
      "source": [
        "name = \"Abusaleh Alam Khan\"\n",
        "\n",
        "print(name.upper())\n",
        "print(name)\n",
        "name = name.upper()\n",
        "print(name)\n",
        "print(name.lower())\n",
        "print(name)\n",
        "\n",
        "\n",
        "print(name.find('S'))\n",
        "print(name.find('ALAM'))\n",
        "\n",
        "print(name.replace(\"ABUSALEH\", \"Maruf\"))\n",
        "\n",
        "print('Abusaleh' in name.lower())\n",
        "\n",
        "\n"
      ]
    },
    {
      "cell_type": "code",
      "source": [],
      "metadata": {
        "id": "-BhskqtJvULm"
      },
      "execution_count": null,
      "outputs": []
    }
  ]
}