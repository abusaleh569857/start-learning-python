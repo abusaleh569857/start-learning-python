{
  "nbformat": 4,
  "nbformat_minor": 0,
  "metadata": {
    "colab": {
      "provenance": [],
      "authorship_tag": "ABX9TyOO3f5bXEfBjJiz+wqqqAqb",
      "include_colab_link": true
    },
    "kernelspec": {
      "name": "python3",
      "display_name": "Python 3"
    },
    "language_info": {
      "name": "python"
    }
  },
  "cells": [
    {
      "cell_type": "markdown",
      "metadata": {
        "id": "view-in-github",
        "colab_type": "text"
      },
      "source": [
        "<a href=\"https://colab.research.google.com/github/abusaleh569857/start-learning-python/blob/main/statement_py.ipynb\" target=\"_parent\"><img src=\"https://colab.research.google.com/assets/colab-badge.svg\" alt=\"Open In Colab\"/></a>"
      ]
    },
    {
      "cell_type": "code",
      "execution_count": 16,
      "metadata": {
        "colab": {
          "base_uri": "https://localhost:8080/"
        },
        "id": "Pi2lJQ4nbWoc",
        "outputId": "7c84458b-0662-4cc1-beb7-ca7d1139b315"
      },
      "outputs": [
        {
          "output_type": "stream",
          "name": "stdout",
          "text": [
            "25\n",
            "Value of a : 25\n",
            "<class 'int'>\n",
            "12\n",
            "<class 'str'>\n",
            "10 20 30\n",
            "10 10 10\n",
            "12.12\n",
            "1210000.0\n",
            "(3+4j)\n",
            "3.0\n",
            "4.0\n",
            "None\n",
            "<class 'int'>\n",
            "<class 'float'>\n",
            "True\n"
          ]
        }
      ],
      "source": [
        "# Single Line Comment\n",
        "a = 25 #No need to declare var type\n",
        "print(a)\n",
        "print('Value of a :', a)\n",
        "# Python has no multi line comment\n",
        "'''\n",
        "This is a multi-line string\n",
        "used like a comment.\n",
        "But Python interprets it as a string.\n",
        "'''\n",
        "a = 12\n",
        "print(type(a))\n",
        "b = str(a)\n",
        "print(b);\n",
        "print(type(b))\n",
        "\n",
        "var1,var2,var3 = 10,20,30\n",
        "\n",
        "print(var1,var2,var3)\n",
        "\n",
        "#Numeric Literal\n",
        "bin = 0b1010\n",
        "oct = 0o12\n",
        "hex = 0xA\n",
        "\n",
        "print(bin,oct,hex)\n",
        "\n",
        "\n",
        "\n",
        "#float Literal\n",
        "var1 = 12.12\n",
        "var2 = 12.1e5  # e = 10^x\n",
        "print(var1)\n",
        "print(var2)\n",
        "\n",
        "\n",
        "#complex Literal\n",
        "cmp = 3+4j\n",
        "print(cmp)\n",
        "print(cmp.real)\n",
        "print(cmp.imag)\n",
        "\n",
        "\n",
        "\n",
        "#Special literal\n",
        "\n",
        "a= None  # NULL = absence of value\n",
        "print(a)\n",
        "\n",
        "\n",
        "\n",
        "# Know Type\n",
        "\n",
        "a = 10\n",
        "print(type(a))\n",
        "\n",
        "a= 10.20\n",
        "print(type(a))\n",
        "\n",
        "b = \"String B\"\n",
        "print(isinstance(b, str))\n"
      ]
    }
  ]
}